{
 "cells": [
  {
   "cell_type": "code",
   "execution_count": 4,
   "metadata": {},
   "outputs": [],
   "source": [
    "import numpy as np\n",
    "import geopandas as pd"
   ]
  },
  {
   "cell_type": "code",
   "execution_count": null,
   "metadata": {},
   "outputs": [],
   "source": [
    "def clean_IQR(df_in, columns= ['odometer', 'gallons', 'cost_per_gallon_float', 'total_spent_float', 'mpg', 'miles']):\n",
    "    temp_df = df_in.copy()\n",
    "    \n",
    "    for country in top_5_currencies:\n",
    "        # Filter the DataFrame for the current currency\n",
    "        country_df = df_top_5.loc[df_top_5['currency'] == country]\n",
    "        \n",
    "        for column in columns:\n",
    "            Q1 = float(country_df[column].quantile(0.25))\n",
    "            Q3 = float(country_df[column].quantile(0.75))\n",
    "            IQR = Q3 - Q1\n",
    "            lower_bound = Q1 - 1.5 * IQR\n",
    "            upper_bound = Q3 + 1.5 * IQR\n",
    "            \n",
    "            # Filter the data based on the calculated bounds\n",
    "            country_df = country_df[(country_df[column] >= lower_bound) & (country_df[column] <= upper_bound)]        \n",
    "        # Update temp_df with the filtered country_df\n",
    "        temp_df = pd.concat([temp_df[temp_df['currency'] != country], country_df], ignore_index=True)\n",
    "    \n",
    "    return temp_df"
   ]
  }
 ],
 "metadata": {
  "kernelspec": {
   "display_name": "Python 3",
   "language": "python",
   "name": "python3"
  },
  "language_info": {
   "codemirror_mode": {
    "name": "ipython",
    "version": 3
   },
   "file_extension": ".py",
   "mimetype": "text/x-python",
   "name": "python",
   "nbconvert_exporter": "python",
   "pygments_lexer": "ipython3",
   "version": "3.12.2"
  }
 },
 "nbformat": 4,
 "nbformat_minor": 2
}
